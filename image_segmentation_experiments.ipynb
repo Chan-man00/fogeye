{
 "cells": [
  {
   "cell_type": "markdown",
   "metadata": {},
   "source": [
    "# Stereofog Image Segmentation experiments\n",
    "https://github.com/ayoolaolafenwa/PixelLib/blob/master/Tutorials/Pytorch_image_instance_segmentation.md\n",
    "\n",
    "PointRend model: https://github.com/facebookresearch/detectron2/tree/main/projects/PointRend\n",
    "\n",
    "(old: https://www.youtube.com/watch?v=FO-tjmtw5J4)"
   ]
  },
  {
   "cell_type": "code",
   "execution_count": 5,
   "metadata": {},
   "outputs": [],
   "source": [
    "# import pixellib\n",
    "from pixellib.torchbackend.instance import instanceSegmentation"
   ]
  },
  {
   "cell_type": "code",
   "execution_count": 9,
   "metadata": {},
   "outputs": [
    {
     "name": "stderr",
     "output_type": "stream",
     "text": [
      "The checkpoint state_dict contains keys that are not used by the model:\n",
      "  proposal_generator.anchor_generator.cell_anchors.{0, 1, 2, 3, 4}\n"
     ]
    },
    {
     "data": {
      "text/plain": [
       "({'boxes': array([], shape=(0, 4), dtype=int64),\n",
       "  'class_ids': array([], dtype=int64),\n",
       "  'class_names': [],\n",
       "  'object_counts': Counter(),\n",
       "  'scores': tensor([], dtype=torch.int64),\n",
       "  'masks': array([], shape=(0, 256, 256), dtype=bool),\n",
       "  'extracted_objects': []},\n",
       " array([[[216, 177, 153],\n",
       "         [216, 178, 161],\n",
       "         [183, 146, 116],\n",
       "         ...,\n",
       "         [251, 190, 146],\n",
       "         [252, 192, 154],\n",
       "         [250, 176, 135]],\n",
       " \n",
       "        [[216, 180, 155],\n",
       "         [216, 177, 153],\n",
       "         [186, 142, 125],\n",
       "         ...,\n",
       "         [251, 189, 146],\n",
       "         [251, 195, 147],\n",
       "         [251, 181, 136]],\n",
       " \n",
       "        [[215, 175, 151],\n",
       "         [215, 174, 150],\n",
       "         [193, 149, 123],\n",
       "         ...,\n",
       "         [251, 195, 146],\n",
       "         [251, 194, 143],\n",
       "         [251, 187, 132]],\n",
       " \n",
       "        ...,\n",
       " \n",
       "        [[ 56,  63,  69],\n",
       "         [ 59,  59,  72],\n",
       "         [ 57,  72,  67],\n",
       "         ...,\n",
       "         [162, 158, 199],\n",
       "         [164, 164, 196],\n",
       "         [175, 182, 207]],\n",
       " \n",
       "        [[ 60,  87,  83],\n",
       "         [ 53,  77,  73],\n",
       "         [ 55,  68,  79],\n",
       "         ...,\n",
       "         [167, 164, 195],\n",
       "         [160, 178, 192],\n",
       "         [174, 189, 195]],\n",
       " \n",
       "        [[ 67,  69,  78],\n",
       "         [ 64,  68,  86],\n",
       "         [ 59,  64,  82],\n",
       "         ...,\n",
       "         [173, 160, 199],\n",
       "         [158, 168, 192],\n",
       "         [170, 180, 202]]], dtype=uint8))"
      ]
     },
     "execution_count": 9,
     "metadata": {},
     "output_type": "execute_result"
    }
   ],
   "source": [
    "image_name = '2023-08-01-04__560_fake_B.png'#'2878813f-a6ec-4a82-b3b1-c8cbf39703c3.jpeg'\n",
    "image_name = '2023-08-16_RUN3__616_fake_B.png'\n",
    "\n",
    "segment_image = instanceSegmentation()\n",
    "segment_image.load_model(\"segmentation_models/pointrend_resnet50.pkl\")\n",
    "segment_image.segmentImage(image_name, show_bboxes = True, output_image_name =f\"{image_name.split('.')[0]}_segmented.png\")"
   ]
  },
  {
   "cell_type": "code",
   "execution_count": null,
   "metadata": {},
   "outputs": [],
   "source": []
  }
 ],
 "metadata": {
  "kernelspec": {
   "display_name": "general-testbed",
   "language": "python",
   "name": "python3"
  },
  "language_info": {
   "codemirror_mode": {
    "name": "ipython",
    "version": 3
   },
   "file_extension": ".py",
   "mimetype": "text/x-python",
   "name": "python",
   "nbconvert_exporter": "python",
   "pygments_lexer": "ipython3",
   "version": "3.7.15"
  },
  "orig_nbformat": 4
 },
 "nbformat": 4,
 "nbformat_minor": 2
}
